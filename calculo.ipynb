{
 "cells": [
  {
   "cell_type": "code",
   "execution_count": 2,
   "metadata": {
    "cocalc": {
     "outputs": {
      "0": {
       "name": "input",
       "opts": {
        "password": false,
        "prompt": "Enter your equation here: "
       },
       "output_type": "stream",
       "value": "x ** 2"
      }
     }
    },
    "collapsed": false
   },
   "outputs": [
    {
     "name": "stdout",
     "output_type": "stream",
     "text": [
      "Bisection Method = 0.499978668813128\n",
      "Iterations = 39\n",
      "Fsolve gives 1stroot at x =  0.5\n",
      "Fsolve gives 2stroot at x =  0.5\n",
      "Fsolve gives 3stroot at x =  0.5\n",
      "Fsolve gives 4stroot at x =  0.5\n",
      "Fsolve gives 5stroot at x =  0.5\n",
      "Fsolve gives 6stroot at x =  0.5\n",
      "Fsolve gives 7stroot at x =  0.5\n",
      "Fsolve gives 8stroot at x =  0.5\n",
      "Fsolve gives 9stroot at x =  0.5\n",
      "Fsolve gives 10stroot at x =  0.5\n",
      "Fsolve gives 11stroot at x =  0.5\n"
     ]
    },
    {
     "data": {
      "image/png": "[encoded data removed]",
      "text/plain": [
       "<Figure size 432x288 with 1 Axes>"
      ]
     },
     "metadata": {
      "needs_background": "light"
     },
     "output_type": "display_data"
    }
   ],
   "source": [
    "%matplotlib inline\n",
    "import numpy as np\n",
    "import matplotlib.pyplot as plt\n",
    "from scipy.optimize import fsolve\n",
    "\n",
    "equation = input(\"Enter your equation here: \")\n",
    "f = lambda x: eval(equation)\n",
    "\n",
    "\n",
    "def bissection(a,b,tol):\n",
    "    xl = a\n",
    "    xr = b\n",
    "    i = 1\n",
    "    while (np.abs(xl-xr) >= tol):\n",
    "        c = (xl+xr)/2.0\n",
    "        prod = f(xl) * f(c)\n",
    "        if prod > tol:\n",
    "            xl = c \n",
    "            i+= 1\n",
    "        else:\n",
    "            if prod < tol:\n",
    "                xr = c\n",
    "                i+= 1\n",
    "    return i,c\n",
    "\n",
    "\n",
    "answer = bissection(-1000,1000,1e-8)\n",
    "print (\"Bisection Method =\" , answer[1])\n",
    "print(\"Iterations =\" , answer[0])\n",
    "\n",
    "shortcut = fsolve(f,[-1.5,-1.25,-1,-0.75, -0.5,-0.25,0.25,0.5,0.75,1,1.25, 1.5])\n",
    "print(\"Fsolve gives 1stroot at x = \" ,shortcut[0])\n",
    "print(\"Fsolve gives 2stroot at x = \" ,shortcut[1])\n",
    "print(\"Fsolve gives 3stroot at x = \" ,shortcut[2])\n",
    "print(\"Fsolve gives 4stroot at x = \" ,shortcut[3])\n",
    "print(\"Fsolve gives 5stroot at x = \" ,shortcut[4])\n",
    "print(\"Fsolve gives 6stroot at x = \" ,shortcut[5])\n",
    "print(\"Fsolve gives 7stroot at x = \" ,shortcut[6])\n",
    "print(\"Fsolve gives 8stroot at x = \" ,shortcut[7])\n",
    "print(\"Fsolve gives 9stroot at x = \" ,shortcut[8])\n",
    "print(\"Fsolve gives 10stroot at x = \" ,shortcut[9])\n",
    "print(\"Fsolve gives 11stroot at x = \" ,shortcut[10])\n",
    "\n",
    "\n",
    "\n",
    "x = np.linspace(-1000,1000,100)\n",
    "plt.plot(x,f(x))\n",
    "plt.grid()\n",
    "plt.show()"
   ]
  },
  {
   "cell_type": "code",
   "execution_count": null,
   "metadata": {
    "collapsed": false
   },
   "outputs": [],
   "source": []
  }
 ],
 "metadata": {
  "kernelspec": {
   "display_name": "Python 3 (system-wide)",
   "env": {},
   "language": "python",
   "metadata": {
    "cocalc": {
     "description": "Python 3 programming language",
     "priority": 100,
     "url": "https://www.python.org/"
    }
   },
   "name": "python3",
   "resource_dir": "/ext/jupyter/kernels/python3"
  },
  "language_info": {
   "codemirror_mode": {
    "name": "ipython",
    "version": 3
   },
   "file_extension": ".py",
   "mimetype": "text/x-python",
   "name": "python",
   "nbconvert_exporter": "python",
   "pygments_lexer": "ipython3",
   "version": "3.9.7"
  }
 },
 "nbformat": 4,
 "nbformat_minor": 4
}
